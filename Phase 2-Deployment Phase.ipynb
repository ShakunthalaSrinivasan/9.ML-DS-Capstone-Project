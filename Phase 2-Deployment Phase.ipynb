{
 "cells": [
  {
   "cell_type": "code",
   "execution_count": 1,
   "id": "b838c847-8ad3-477e-94fd-835cf0b9261e",
   "metadata": {},
   "outputs": [],
   "source": [
    "import pandas as pd\n",
    "import warnings\n",
    "from sklearn.model_selection import train_test_split\n",
    "from sklearn.preprocessing import StandardScaler\n",
    "warnings.filterwarnings(\"ignore\")\n",
    "from datetime import datetime\n",
    "now=datetime.now()"
   ]
  },
  {
   "cell_type": "code",
   "execution_count": 2,
   "id": "215f17f7-b201-4c3c-b49c-cfa23f992029",
   "metadata": {},
   "outputs": [],
   "source": [
    "dataset=pd.read_csv(\"Fraud_Prediction_preprocessed.csv\",index_col=None)\n",
    "col=dataset.select_dtypes(include=['object']).columns\n",
    "from sklearn.preprocessing import LabelEncoder\n",
    "le=LabelEncoder()\n",
    "for x in col:\n",
    "    dataset[x]=le.fit_transform(dataset[x])"
   ]
  },
  {
   "cell_type": "code",
   "execution_count": 3,
   "id": "76485818-ca4e-4819-8188-6463b42a08a1",
   "metadata": {},
   "outputs": [],
   "source": [
    "indep=dataset.drop('Fraud_Label',axis=1)\n",
    "dep=dataset['Fraud_Label']\n",
    "def SelectKBest(indep,dep,n):\n",
    "    from sklearn.feature_selection import SelectKBest\n",
    "    from sklearn.feature_selection import chi2\n",
    "    test=SelectKBest(score_func=chi2,k=n)\n",
    "    fit=test.fit(indep,dep)\n",
    "    selectk_features=fit.transform(indep)\n",
    "    feature_names=indep.columns[fit.get_support(indices=True)].tolist()\n",
    "    return selectk_features,feature_names\n",
    "kbest,Feature_Names=SelectKBest(indep,dep,3)\n",
    "X_train,X_test,y_train,y_test=train_test_split(kbest,dep,test_size=0.25,random_state=0)\n",
    "sc=StandardScaler()\n",
    "X_train=sc.fit_transform(X_train)\n",
    "X_test=sc.transform(X_test)"
   ]
  },
  {
   "cell_type": "code",
   "execution_count": 4,
   "id": "083c52a3-31dc-47a8-ab52-ba9061ef5e99",
   "metadata": {},
   "outputs": [
    {
     "name": "stdin",
     "output_type": "stream",
     "text": [
      "Enter the transaction amount: 47000\n",
      "Enter the failed transaction count: 6\n",
      "Enter the risk score: 0.480\n"
     ]
    }
   ],
   "source": [
    "Transaction_amount=int(input(\"Enter the transaction amount:\"))\n",
    "Failed_Txn_Count=int(input(\"Enter the failed transaction count:\"))\n",
    "Risk_Score=float(input(\"Enter the risk score:\"))\n",
    "preinput=sc.transform([[Transaction_amount,Failed_Txn_Count,Risk_Score]])"
   ]
  },
  {
   "cell_type": "code",
   "execution_count": 5,
   "id": "a0dd1497-ed6c-45f6-a67f-94c37161725c",
   "metadata": {},
   "outputs": [],
   "source": [
    "import pickle\n",
    "loaded_model=pickle.load(open(\"Fraud_Prediction_final_model.sav\",'rb'))\n",
    "future_prediction=loaded_model.predict(preinput)"
   ]
  },
  {
   "cell_type": "code",
   "execution_count": 6,
   "id": "c7c89fe3-fa18-44d7-8765-38387ddab723",
   "metadata": {},
   "outputs": [
    {
     "name": "stdout",
     "output_type": "stream",
     "text": [
      "The transaction dated 2025-04-15 17:03:26.643506 for the amount Rs.47000 initiated by you is found to be suspicious and we request you to kindly contact the bank if it is not initiated by you.\n"
     ]
    }
   ],
   "source": [
    "if(future_prediction==1):\n",
    "    print(\"The transaction dated {} for the amount Rs.{} initiated by you is found to be suspicious and we request you to kindly contact the bank if it is not initiated by you.\".format(now,Transaction_amount))\n",
    "else:\n",
    "    print(\"The transaction is found to be geniune\")"
   ]
  },
  {
   "cell_type": "code",
   "execution_count": null,
   "id": "0e8a49e7-f178-4561-b7ba-97aaa085af58",
   "metadata": {},
   "outputs": [],
   "source": []
  }
 ],
 "metadata": {
  "kernelspec": {
   "display_name": "Python 3 (ipykernel)",
   "language": "python",
   "name": "python3"
  },
  "language_info": {
   "codemirror_mode": {
    "name": "ipython",
    "version": 3
   },
   "file_extension": ".py",
   "mimetype": "text/x-python",
   "name": "python",
   "nbconvert_exporter": "python",
   "pygments_lexer": "ipython3",
   "version": "3.12.7"
  }
 },
 "nbformat": 4,
 "nbformat_minor": 5
}
